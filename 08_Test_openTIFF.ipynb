{
 "cells": [
  {
   "cell_type": "code",
   "execution_count": null,
   "metadata": {},
   "outputs": [],
   "source": [
    "## Import necessary libraries\n",
    "import numpy as np\n",
    "import matplotlib\n",
    "import matplotlib.pyplot as plt\n",
    "import tifffile as tiff\n",
    "import os\n",
    "import pandas as pd\n",
    "from PIL import Image\n",
    "\n",
    "from AutoImgUtils import * "
   ]
  },
  {
   "cell_type": "code",
   "execution_count": null,
   "metadata": {},
   "outputs": [],
   "source": [
    "def show_tiff_image(image_path):\n",
    "    \"\"\"Display a tiff image using matplotlib.\"\"\"\n",
    "    image = tiff.imread(image_path)\n",
    "    image = np.moveaxis(image, 0, -1)\n",
    "\n",
    "    n_channels = image.shape[2]\n",
    "    \n",
    "    fig, axs = plt.subplots(1, n_channels , figsize=(n_channels *5,20))\n",
    "    colors = ['Blues', 'Greens', 'Reds', 'Purples']\n",
    "    for ax, channel_index, color in zip(axs, range(n_channels), colors):\n",
    "        ax.imshow(normalize(image[:, :, channel_index]), cmap=color)\n",
    "\n",
    "    for ax, channel_index in zip(axs, range(n_channels)):\n",
    "        ax.set_title(f'Channel {channel_index+1} (Raw)')\n",
    "\n",
    "    # Hide x labels and tick labels for top plots and y ticks for right plots.\n",
    "    for ax in axs.flat:\n",
    "        ax.label_outer()\n",
    "        ax.axis('off')\n",
    "    \n",
    "    plt.show()"
   ]
  },
  {
   "cell_type": "code",
   "execution_count": null,
   "metadata": {},
   "outputs": [],
   "source": [
    "# Select refrerence image to show\n",
    "reference_image_path = select_file()\n",
    "print(f\"Selected image: {reference_image_path}\")\n",
    "\n",
    "# Display the image \n",
    "show_tiff_image(reference_image_path)"
   ]
  },
  {
   "cell_type": "code",
   "execution_count": null,
   "metadata": {},
   "outputs": [],
   "source": []
  }
 ],
 "metadata": {
  "kernelspec": {
   "display_name": ".auto_img",
   "language": "python",
   "name": "python3"
  },
  "language_info": {
   "codemirror_mode": {
    "name": "ipython",
    "version": 3
   },
   "file_extension": ".py",
   "mimetype": "text/x-python",
   "name": "python",
   "nbconvert_exporter": "python",
   "pygments_lexer": "ipython3",
   "version": "3.12.3"
  }
 },
 "nbformat": 4,
 "nbformat_minor": 2
}
