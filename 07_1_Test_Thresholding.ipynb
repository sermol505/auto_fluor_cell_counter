{
 "cells": [
  {
   "cell_type": "code",
   "execution_count": null,
   "metadata": {},
   "outputs": [],
   "source": [
    "import numpy as np\n",
    "from skimage import data\n",
    "from AutoImgUtils import thresholding\n",
    "import matplotlib.pyplot as plt\n",
    "import tkinter as tk\n",
    "from tkinter import filedialog\n",
    "import tifffile as tiff"
   ]
  },
  {
   "cell_type": "code",
   "execution_count": null,
   "metadata": {},
   "outputs": [],
   "source": [
    "# Create a root window and hide it\n",
    "root = tk.Tk()\n",
    "root.withdraw()\n",
    "\n",
    "# Open a file dialog and select a file\n",
    "file_path = filedialog.askopenfilename()\n",
    "\n",
    "print(f\"Selected file: {file_path}\")"
   ]
  },
  {
   "cell_type": "code",
   "execution_count": null,
   "metadata": {},
   "outputs": [],
   "source": [
    "def test_thresholding():\n",
    "    \"\"\"\n",
    "    Test the thresholding function with a sample image.\n",
    "    Tests different thresholding methods and ROI types.\n",
    "    \"\"\"\n",
    "    # Create a test image (cells example from skimage)\n",
    "    # cells = data.cells3d()[30,1,:,:]  # Get a 2D slice from the 3D image\n",
    "    \n",
    "    # Convert to RGB by stacking the same image in 3 channels\n",
    "    # test_image = np.stack([cells, cells, cells], axis=-1)\n",
    "    \n",
    "    test_image = tiff.imread(file_path)\n",
    "    print(f\"Image shape before rearranging: {test_image.shape}\")\n",
    "    test_image = np.moveaxis(test_image, 0, -1)\n",
    "    print(f\"Image shape after rearranging: {test_image.shape}\")\n",
    "    \n",
    "    # Test different combinations\n",
    "    methods = ['otsu'] # ['otsu', 'adaptive', 'mean']\n",
    "    roi_types = ['watershed'] # ['watershed', 'contour', 'ellipse']\n",
    "    \n",
    "    for method in methods:\n",
    "        for roi_type in roi_types:\n",
    "            print(f\"\\nTesting {method} thresholding with {roi_type} ROIs\")\n",
    "            \n",
    "            # Apply thresholding\n",
    "            binary, labels, props, rois = thresholding(\n",
    "                test_image,\n",
    "                th_method=method,\n",
    "                roi_type=roi_type,\n",
    "                display_rois=True\n",
    "            )\n",
    "            \n",
    "            # Print some basic information\n",
    "            print(f\"Number of ROIs detected: {len(props)}\")\n",
    "            print(\"ROI areas:\", [prop.area for prop in props[:5]], \"...\")"
   ]
  },
  {
   "cell_type": "code",
   "execution_count": null,
   "metadata": {},
   "outputs": [],
   "source": [
    "if __name__ == \"__main__\":\n",
    "    test_thresholding()"
   ]
  },
  {
   "cell_type": "code",
   "execution_count": null,
   "metadata": {},
   "outputs": [],
   "source": []
  }
 ],
 "metadata": {
  "kernelspec": {
   "display_name": ".auto_img",
   "language": "python",
   "name": "python3"
  },
  "language_info": {
   "codemirror_mode": {
    "name": "ipython",
    "version": 3
   },
   "file_extension": ".py",
   "mimetype": "text/x-python",
   "name": "python",
   "nbconvert_exporter": "python",
   "pygments_lexer": "ipython3",
   "version": "3.12.2"
  }
 },
 "nbformat": 4,
 "nbformat_minor": 2
}
